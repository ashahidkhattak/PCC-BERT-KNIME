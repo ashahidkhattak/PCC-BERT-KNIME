{
  "cells": [
    {
      "cell_type": "markdown",
      "metadata": {
        "id": "BTZ-9086XEEg"
      },
      "source": [
        "# 1. Installing & Importing Python Libraries"
      ]
    },
    {
      "cell_type": "code",
      "execution_count": null,
      "metadata": {
        "id": "qI3JnuWfmz-i"
      },
      "outputs": [],
      "source": [
        "!pip3 install ktrain"
      ]
    },
    {
      "cell_type": "code",
      "execution_count": null,
      "metadata": {
        "id": "0yf6Xy3ZXEEh"
      },
      "outputs": [],
      "source": [
        "#Data preprocessing libraries\n",
        "import re\n",
        "import string\n",
        "import pandas\n",
        "import os\n",
        "import numpy as np\n",
        "import pandas as pd\n",
        "from collections import Counter\n",
        "from sklearn import preprocessing\n",
        "\n",
        "#Data visualization libraries\n",
        "import seaborn as sns\n",
        "import matplotlib.cm as cm\n",
        "from wordcloud import WordCloud\n",
        "import matplotlib.pyplot as plt\n",
        "from matplotlib import rcParams\n",
        "\n",
        "#Natural language libraries for text\n",
        "from nltk.corpus import stopwords\n",
        "from nltk.stem import PorterStemmer\n",
        "from nltk.tokenize import word_tokenize\n",
        "from nltk.tokenize import RegexpTokenizer\n",
        "import ktrain\n",
        "from ktrain import text\n",
        "\n",
        "#Avoid system warning library\n",
        "import warnings\n",
        "warnings.filterwarnings(\"ignore\")"
      ]
    },
    {
      "cell_type": "markdown",
      "metadata": {
        "id": "8WIp5xJsXEEp"
      },
      "source": [
        "# 2. Loading data"
      ]
    },
    {
      "cell_type": "code",
      "execution_count": null,
      "metadata": {
        "id": "LB8acmV5XEEq",
        "scrolled": false
      },
      "outputs": [],
      "source": [
        "data = pd.read_excel('Copy Path of Binay-class or Multi-class data.xlsx')"
      ]
    },
    {
      "cell_type": "markdown",
      "metadata": {
        "id": "wMwd71ZRXEEs"
      },
      "source": [
        "# 3. Exploratory data analysis"
      ]
    },
    {
      "cell_type": "markdown",
      "metadata": {
        "id": "MF2P9c5oXEEt"
      },
      "source": [
        "### 3.1. Five top records of data"
      ]
    },
    {
      "cell_type": "code",
      "execution_count": null,
      "metadata": {
        "id": "XeXCH_AHctqv"
      },
      "outputs": [],
      "source": [
        "data.head()"
      ]
    },
    {
      "cell_type": "markdown",
      "metadata": {
        "id": "az_M0H3wXEEw"
      },
      "source": [
        "### 3.2. Five last records of data"
      ]
    },
    {
      "cell_type": "code",
      "execution_count": null,
      "metadata": {
        "id": "45i46ILlXEEw"
      },
      "outputs": [],
      "source": [
        "data.tail()"
      ]
    },
    {
      "cell_type": "markdown",
      "metadata": {
        "id": "9ky9nzcoXEEz"
      },
      "source": [
        "### 3.3. Coloumns/features in data"
      ]
    },
    {
      "cell_type": "code",
      "execution_count": null,
      "metadata": {
        "id": "xxBNFvlxXEE0"
      },
      "outputs": [],
      "source": [
        "data.columns"
      ]
    },
    {
      "cell_type": "markdown",
      "metadata": {
        "id": "i5f4YE5JXEE2"
      },
      "source": [
        "### 3.4. Length of data"
      ]
    },
    {
      "cell_type": "code",
      "execution_count": null,
      "metadata": {
        "id": "Sd4rLVtsXEE5"
      },
      "outputs": [],
      "source": [
        "print('lenght of data is', len(data))"
      ]
    },
    {
      "cell_type": "markdown",
      "metadata": {
        "id": "OoLpLQZ3XEE7"
      },
      "source": [
        "### 3.5. Shape of data"
      ]
    },
    {
      "cell_type": "code",
      "execution_count": null,
      "metadata": {
        "id": "buqfbV-0XEE8"
      },
      "outputs": [],
      "source": [
        "data.shape"
      ]
    },
    {
      "cell_type": "markdown",
      "metadata": {
        "id": "f2z46WQqXEE-"
      },
      "source": [
        "### 3.6. Data information"
      ]
    },
    {
      "cell_type": "code",
      "execution_count": null,
      "metadata": {
        "id": "89AwnazxXEE-",
        "scrolled": false
      },
      "outputs": [],
      "source": [
        "data.info()"
      ]
    },
    {
      "cell_type": "markdown",
      "metadata": {
        "id": "qLKxXUsPXEFA"
      },
      "source": [
        "### 3.7. Data types of all coloumns"
      ]
    },
    {
      "cell_type": "code",
      "execution_count": null,
      "metadata": {
        "id": "wuD-iH13XEFB"
      },
      "outputs": [],
      "source": [
        "data.dtypes"
      ]
    },
    {
      "cell_type": "markdown",
      "metadata": {
        "id": "pav8N5S2XEFG"
      },
      "source": [
        "### 3.8. Checking Null Values"
      ]
    },
    {
      "cell_type": "code",
      "execution_count": null,
      "metadata": {
        "id": "OldqCS29XEFG",
        "scrolled": true
      },
      "outputs": [],
      "source": [
        "data[data.isnull().any(axis=1)].head()"
      ]
    },
    {
      "cell_type": "markdown",
      "metadata": {
        "id": "1T_C_XVQXEFJ"
      },
      "source": [
        "### 3.9. Count of Null values"
      ]
    },
    {
      "cell_type": "code",
      "execution_count": null,
      "metadata": {
        "id": "Zo4x3xt5XEFJ",
        "scrolled": true
      },
      "outputs": [],
      "source": [
        "np.sum(data.isnull().any(axis=1))"
      ]
    },
    {
      "cell_type": "markdown",
      "metadata": {
        "id": "ShuXWaZ2XEFM"
      },
      "source": [
        "### 3.10. Count of all values in Label"
      ]
    },
    {
      "cell_type": "code",
      "execution_count": null,
      "metadata": {
        "id": "ZYSSdDhWXEFM"
      },
      "outputs": [],
      "source": [
        "y=data['condition']\n",
        "y.value_counts()"
      ]
    },
    {
      "cell_type": "markdown",
      "metadata": {
        "id": "7JOV9mWjXEFU"
      },
      "source": [
        "### 3.11. Class  distribution"
      ]
    },
    {
      "cell_type": "code",
      "execution_count": null,
      "metadata": {
        "id": "-4ARzkudXEFU"
      },
      "outputs": [],
      "source": [
        "data[\"condition\"].value_counts().head(12).plot(kind = 'pie', autopct='%1.1f%%', figsize=(8, 8)).legend()"
      ]
    },
    {
      "cell_type": "code",
      "execution_count": null,
      "metadata": {
        "id": "UhJ1gO8GXEFc"
      },
      "outputs": [],
      "source": [
        "sns.countplot(data= data, x = \"condition\")\n",
        "plt.show()"
      ]
    },
    {
      "cell_type": "markdown",
      "metadata": {
        "id": "VMnqIdVczi9E"
      },
      "source": [
        "# 4. Getting Tokenization"
      ]
    },
    {
      "cell_type": "code",
      "execution_count": null,
      "metadata": {
        "id": "N-nj29ubzi9E"
      },
      "outputs": [],
      "source": [
        "tokenizer = RegexpTokenizer(r'\\w+')\n",
        "data[\"review\"] = data[\"Review\"].apply(tokenizer.tokenize)"
      ]
    },
    {
      "cell_type": "code",
      "execution_count": null,
      "metadata": {
        "id": "P2zopiiezi9G"
      },
      "outputs": [],
      "source": [
        "data[\"review\"].head()"
      ]
    },
    {
      "cell_type": "code",
      "execution_count": null,
      "metadata": {
        "id": "JtNsX3XKzi9Y"
      },
      "outputs": [],
      "source": [
        "data['review']=data['Review']\n",
        "data"
      ]
    },
    {
      "cell_type": "code",
      "source": [
        "data = data.drop(columns=[\"review\"])\n",
        "data"
      ],
      "metadata": {
        "id": "8BBpDkV42BrS"
      },
      "execution_count": null,
      "outputs": []
    },
    {
      "cell_type": "markdown",
      "metadata": {
        "id": "tuPEvOKjzi9c"
      },
      "source": [
        "# 5. Description of text information"
      ]
    },
    {
      "cell_type": "code",
      "execution_count": null,
      "metadata": {
        "id": "tugllO4azi9d"
      },
      "outputs": [],
      "source": [
        "all_words = [word for tokens in data[\"Review\"] for word in tokens]\n",
        "sentence_lengths = [len(tokens) for tokens in data[\"Review\"]]\n",
        "\n",
        "VOCAB = sorted(list(set(all_words)))\n",
        "\n",
        "print(\"%s words total, with a vocabulary size of %s\" % (len(all_words), len(VOCAB)))\n",
        "print(\"Max sentence length is %s\" % max(sentence_lengths))"
      ]
    },
    {
      "cell_type": "markdown",
      "source": [
        "# 6. Class Labels Encoding"
      ],
      "metadata": {
        "id": "UQsMHh6zgMST"
      }
    },
    {
      "cell_type": "code",
      "execution_count": null,
      "metadata": {
        "id": "xHsBy3fgctra"
      },
      "outputs": [],
      "source": [
        "data=data.rename(columns={'condition':'Class'})"
      ]
    },
    {
      "cell_type": "markdown",
      "metadata": {
        "id": "JZtcyHm-zi9-"
      },
      "source": [
        "### 6.1. Encoding **Birth Control** as 0"
      ]
    },
    {
      "cell_type": "code",
      "execution_count": null,
      "metadata": {
        "id": "PjDEBLvozi9-"
      },
      "outputs": [],
      "source": [
        "data['Class'] = data['Class'].replace({\"Birth Control\" : 0})"
      ]
    },
    {
      "cell_type": "markdown",
      "metadata": {
        "id": "E4Vv3oNSctrb"
      },
      "source": [
        "### 6.2. Encoding **Depression** as 1"
      ]
    },
    {
      "cell_type": "code",
      "execution_count": null,
      "metadata": {
        "id": "eqqBsZZectrb"
      },
      "outputs": [],
      "source": [
        "data['Class'] = data['Class'].replace({\"Depression\": 1})"
      ]
    },
    {
      "cell_type": "markdown",
      "source": [
        "### 6.3. Encoding **Pain** as 2"
      ],
      "metadata": {
        "id": "yDsKEZYir7_s"
      }
    },
    {
      "cell_type": "code",
      "source": [
        "data['Class'] = data['Class'].replace({\"Pain\": 2})"
      ],
      "metadata": {
        "id": "rpcJE5KTsaes"
      },
      "execution_count": null,
      "outputs": []
    },
    {
      "cell_type": "markdown",
      "source": [
        "### 6.4. Encoding **Anxiety** as 3"
      ],
      "metadata": {
        "id": "Wo2JSz-4sfV7"
      }
    },
    {
      "cell_type": "code",
      "source": [
        "data['Class'] = data['Class'].replace({\"Anxiety\": 3})"
      ],
      "metadata": {
        "id": "tO6ERYtcsecl"
      },
      "execution_count": null,
      "outputs": []
    },
    {
      "cell_type": "markdown",
      "source": [
        "### 6.5. Encoding **Acne** as 4"
      ],
      "metadata": {
        "id": "qZehsS6ishCs"
      }
    },
    {
      "cell_type": "code",
      "source": [
        "data['Class'] = data['Class'].replace({\"Acne\": 4})"
      ],
      "metadata": {
        "id": "V6K7eLf6siek"
      },
      "execution_count": null,
      "outputs": []
    },
    {
      "cell_type": "markdown",
      "source": [
        "### 6.6. Encoding **Bipolar Disorder** as 5"
      ],
      "metadata": {
        "id": "_OV3apnatGos"
      }
    },
    {
      "cell_type": "code",
      "source": [
        "data['Class'] = data['Class'].replace({\"Bipolar Disorder\": 5})"
      ],
      "metadata": {
        "id": "lgSrGBF5tHtL"
      },
      "execution_count": null,
      "outputs": []
    },
    {
      "cell_type": "markdown",
      "source": [
        "### 6.7. Encoding **Insomnia** as 6"
      ],
      "metadata": {
        "id": "Opy6ZK8Ktax0"
      }
    },
    {
      "cell_type": "code",
      "source": [
        "data['Class'] = data['Class'].replace({\"Insomnia\": 6})"
      ],
      "metadata": {
        "id": "9mc0nHpjtdLt"
      },
      "execution_count": null,
      "outputs": []
    },
    {
      "cell_type": "markdown",
      "source": [
        "### 6.8. Encoding **Weight Loss** as 7"
      ],
      "metadata": {
        "id": "G1aBqshKtkSA"
      }
    },
    {
      "cell_type": "code",
      "source": [
        "data['Class'] = data['Class'].replace({\"Weight Loss\": 7})"
      ],
      "metadata": {
        "id": "jydolYEotgu8"
      },
      "execution_count": null,
      "outputs": []
    },
    {
      "cell_type": "markdown",
      "source": [
        "### 6.9. Encoding **Obesity** as 8"
      ],
      "metadata": {
        "id": "TPbBP6vUtl1_"
      }
    },
    {
      "cell_type": "code",
      "source": [
        "data['Class'] = data['Class'].replace({\"Obesity\": 8})"
      ],
      "metadata": {
        "id": "Smxz-9KBtfMP"
      },
      "execution_count": null,
      "outputs": []
    },
    {
      "cell_type": "markdown",
      "source": [
        "### 6.10. Encoding **ADHD** as 9"
      ],
      "metadata": {
        "id": "V2UffhdTua2D"
      }
    },
    {
      "cell_type": "code",
      "source": [
        "data['Class'] = data['Class'].replace({\"ADHD\": 9})"
      ],
      "metadata": {
        "id": "MBn5gNfCtfAX"
      },
      "execution_count": null,
      "outputs": []
    },
    {
      "cell_type": "markdown",
      "source": [
        "### 6.11. Encoding **Bowel Preparation** as 10"
      ],
      "metadata": {
        "id": "OKJBmTHWuvDU"
      }
    },
    {
      "cell_type": "code",
      "source": [
        "data['Class'] = data['Class'].replace({\"Bowel Preparation\": 10})"
      ],
      "metadata": {
        "id": "n3NEAsZkte21"
      },
      "execution_count": null,
      "outputs": []
    },
    {
      "cell_type": "markdown",
      "source": [
        "### 6.12. Encoding **Emergency Contraception** as 11\n"
      ],
      "metadata": {
        "id": "hYraF-hsvEUm"
      }
    },
    {
      "cell_type": "code",
      "source": [
        "data['Class'] = data['Class'].replace({\"Emergency Contraception\": 11})"
      ],
      "metadata": {
        "id": "BfQDgYV0terD"
      },
      "execution_count": null,
      "outputs": []
    },
    {
      "cell_type": "markdown",
      "source": [
        "### 6.13. Ecoded Classes Count"
      ],
      "metadata": {
        "id": "kttIRtRFiQvW"
      }
    },
    {
      "cell_type": "code",
      "execution_count": null,
      "metadata": {
        "id": "_woI_5S5ctrd"
      },
      "outputs": [],
      "source": [
        "data['Class'].value_counts()"
      ]
    },
    {
      "cell_type": "markdown",
      "metadata": {
        "id": "KPEHghz_ctrd"
      },
      "source": [
        "# 7. Training BERT model"
      ]
    },
    {
      "cell_type": "code",
      "execution_count": null,
      "metadata": {
        "id": "IP4Rv5hHhECL"
      },
      "outputs": [],
      "source": [
        "data['Review'] = data['Review'].apply(lambda m: \" \".join(m))"
      ]
    },
    {
      "cell_type": "code",
      "execution_count": null,
      "metadata": {
        "id": "9aBzlLZ_ctrd"
      },
      "outputs": [],
      "source": [
        "(x_train, y_train), (x_test, y_test), preproc = text.texts_from_df(data,\n",
        "                                                                    'Review',\n",
        "                                                                   preprocess_mode='bert',\n",
        "                                                                    label_columns=['Class'])"
      ]
    },
    {
      "cell_type": "code",
      "execution_count": null,
      "metadata": {
        "id": "MRboy8Isctre"
      },
      "outputs": [],
      "source": [
        "model = text.text_classifier(name='bert',\n",
        "                             train_data=(x_train, y_train),\n",
        "                             preproc=preproc)"
      ]
    },
    {
      "cell_type": "code",
      "execution_count": null,
      "metadata": {
        "id": "2_b82497ctre"
      },
      "outputs": [],
      "source": [
        "Bert_Model = ktrain.get_learner(model=model,\n",
        "                             train_data=(x_train, y_train),\n",
        "                             val_data=(x_test, y_test),\n",
        "                             batch_size=4)"
      ]
    },
    {
      "cell_type": "code",
      "execution_count": null,
      "metadata": {
        "id": "AnZBzUO2ctrf"
      },
      "outputs": [],
      "source": [
        "Bert_Model.fit_onecycle(lr=2e-5,\n",
        "                     epochs=4)"
      ]
    },
    {
      "cell_type": "markdown",
      "metadata": {
        "id": "QoWZ9rysme4L"
      },
      "source": [
        "# 8. Evaluation matrix (Accuracy, Precision, Recall and F1 Measures)"
      ]
    },
    {
      "cell_type": "markdown",
      "source": [
        "### 8.1. Binay Class"
      ],
      "metadata": {
        "id": "nxV22lBbaUl4"
      }
    },
    {
      "cell_type": "code",
      "execution_count": null,
      "metadata": {
        "id": "7bYeQUPGiAjt"
      },
      "outputs": [],
      "source": [
        "Bert_Model.validate(class_names=[0,1])"
      ]
    },
    {
      "cell_type": "markdown",
      "source": [
        "### 8.2. Multi Class"
      ],
      "metadata": {
        "id": "Ox36kuM4aeGC"
      }
    },
    {
      "cell_type": "code",
      "source": [
        "Bert_Model.validate(class_names=[0,1,2,3,4,5,6,7,8,9,10,11])"
      ],
      "metadata": {
        "id": "QssS1kZKaJmB"
      },
      "execution_count": null,
      "outputs": []
    }
  ],
  "metadata": {
    "accelerator": "GPU",
    "colab": {
      "provenance": []
    },
    "kernelspec": {
      "display_name": "Python 3",
      "language": "python",
      "name": "python3"
    },
    "language_info": {
      "codemirror_mode": {
        "name": "ipython",
        "version": 3
      },
      "file_extension": ".py",
      "mimetype": "text/x-python",
      "name": "python",
      "nbconvert_exporter": "python",
      "pygments_lexer": "ipython3",
      "version": "3.8.8"
    },
    "gpuClass": "standard"
  },
  "nbformat": 4,
  "nbformat_minor": 0
}